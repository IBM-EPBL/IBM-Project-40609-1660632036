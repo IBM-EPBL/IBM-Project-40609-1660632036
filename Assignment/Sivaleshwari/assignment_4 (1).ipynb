{
 "cells": [
  {
   "cell_type": "code",
   "execution_count": 2,
   "metadata": {},
   "outputs": [
    {
     "data": {
      "text/plain": [
       "'C:\\\\Users\\\\pc'"
      ]
     },
     "execution_count": 2,
     "metadata": {},
     "output_type": "execute_result"
    }
   ],
   "source": [
    "#1\n",
    "import os\n",
    "os.getcwd()\n"
   ]
  },
  {
   "cell_type": "code",
   "execution_count": 1,
   "metadata": {},
   "outputs": [],
   "source": [
    "import pandas as pd\n",
    "import numpy as np\n",
    "import matplotlib.pyplot as plt\n",
    "import seaborn as sns\n",
    "from sklearn . preprocessing import MinMaxScaler\n",
    "from sklearn.model_selection import train_test_split\n",
    "from sklearn.cluster import KMeans"
   ]
  },
  {
   "cell_type": "code",
   "execution_count": 2,
   "metadata": {},
   "outputs": [
    {
     "data": {
      "text/html": [
       "<div>\n",
       "<style scoped>\n",
       "    .dataframe tbody tr th:only-of-type {\n",
       "        vertical-align: middle;\n",
       "    }\n",
       "\n",
       "    .dataframe tbody tr th {\n",
       "        vertical-align: top;\n",
       "    }\n",
       "\n",
       "    .dataframe thead th {\n",
       "        text-align: right;\n",
       "    }\n",
       "</style>\n",
       "<table border=\"1\" class=\"dataframe\">\n",
       "  <thead>\n",
       "    <tr style=\"text-align: right;\">\n",
       "      <th></th>\n",
       "      <th>CustomerID</th>\n",
       "      <th>Gender</th>\n",
       "      <th>Age</th>\n",
       "      <th>Annual Income (k$)</th>\n",
       "      <th>Spending Score (1-100)</th>\n",
       "    </tr>\n",
       "  </thead>\n",
       "  <tbody>\n",
       "    <tr>\n",
       "      <th>0</th>\n",
       "      <td>1</td>\n",
       "      <td>Male</td>\n",
       "      <td>19</td>\n",
       "      <td>15</td>\n",
       "      <td>39</td>\n",
       "    </tr>\n",
       "    <tr>\n",
       "      <th>1</th>\n",
       "      <td>2</td>\n",
       "      <td>Male</td>\n",
       "      <td>21</td>\n",
       "      <td>15</td>\n",
       "      <td>81</td>\n",
       "    </tr>\n",
       "    <tr>\n",
       "      <th>2</th>\n",
       "      <td>3</td>\n",
       "      <td>Female</td>\n",
       "      <td>20</td>\n",
       "      <td>16</td>\n",
       "      <td>6</td>\n",
       "    </tr>\n",
       "    <tr>\n",
       "      <th>3</th>\n",
       "      <td>4</td>\n",
       "      <td>Female</td>\n",
       "      <td>23</td>\n",
       "      <td>16</td>\n",
       "      <td>77</td>\n",
       "    </tr>\n",
       "    <tr>\n",
       "      <th>4</th>\n",
       "      <td>5</td>\n",
       "      <td>Female</td>\n",
       "      <td>31</td>\n",
       "      <td>17</td>\n",
       "      <td>40</td>\n",
       "    </tr>\n",
       "  </tbody>\n",
       "</table>\n",
       "</div>"
      ],
      "text/plain": [
       "   CustomerID  Gender  Age  Annual Income (k$)  Spending Score (1-100)\n",
       "0           1    Male   19                  15                      39\n",
       "1           2    Male   21                  15                      81\n",
       "2           3  Female   20                  16                       6\n",
       "3           4  Female   23                  16                      77\n",
       "4           5  Female   31                  17                      40"
      ]
     },
     "execution_count": 2,
     "metadata": {},
     "output_type": "execute_result"
    }
   ],
   "source": [
    "#2\n",
    "path='C:\\\\Users\\\\pc\\\\downloads\\\\'\n",
    "data=pd.read_csv(path+'Mall_Customers.csv')\n",
    "data.head()"
   ]
  },
  {
   "cell_type": "code",
   "execution_count": 6,
   "metadata": {},
   "outputs": [
    {
     "data": {
      "text/plain": [
       "(200, 5)"
      ]
     },
     "execution_count": 6,
     "metadata": {},
     "output_type": "execute_result"
    }
   ],
   "source": [
    "data.shape"
   ]
  },
  {
   "cell_type": "code",
   "execution_count": 3,
   "metadata": {},
   "outputs": [
    {
     "data": {
      "text/plain": [
       "<seaborn.axisgrid.FacetGrid at 0x18bac797e50>"
      ]
     },
     "execution_count": 3,
     "metadata": {},
     "output_type": "execute_result"
    },
    {
     "data": {
      "image/png": "[encoded data removed]",
      "text/plain": [
       "<Figure size 360x360 with 1 Axes>"
      ]
     },
     "metadata": {
      "needs_background": "light"
     },
     "output_type": "display_data"
    }
   ],
   "source": [
    "sns.displot(data['Spending Score (1-100)'])"
   ]
  },
  {
   "cell_type": "code",
   "execution_count": 9,
   "metadata": {},
   "outputs": [
    {
     "name": "stderr",
     "output_type": "stream",
     "text": [
      "C:\\Users\\pc\\anaconda3\\lib\\site-packages\\seaborn\\_decorators.py:36: FutureWarning: Pass the following variables as keyword args: x, y. From version 0.12, the only valid positional argument will be `data`, and passing other arguments without an explicit keyword will result in an error or misinterpretation.\n",
      "  warnings.warn(\n"
     ]
    },
    {
     "data": {
      "text/plain": [
       "<seaborn.axisgrid.FacetGrid at 0x18bacbf7460>"
      ]
     },
     "execution_count": 9,
     "metadata": {},
     "output_type": "execute_result"
    },
    {
     "data": {
      "image/png": "[encoded data removed]",
      "text/plain": [
       "<Figure size 360x360 with 1 Axes>"
      ]
     },
     "metadata": {
      "needs_background": "light"
     },
     "output_type": "display_data"
    }
   ],
   "source": [
    "sns.relplot('Age','Spending Score (1-100)',data=data)"
   ]
  },
  {
   "cell_type": "code",
   "execution_count": 10,
   "metadata": {},
   "outputs": [
    {
     "data": {
      "text/plain": [
       "<seaborn.axisgrid.PairGrid at 0x18bad333910>"
      ]
     },
     "execution_count": 10,
     "metadata": {},
     "output_type": "execute_result"
    },
    {
     "data": {
      "image/png": "[encoded data removed]",
      "text/plain": [
       "<Figure size 540x540 with 12 Axes>"
      ]
     },
     "metadata": {
      "needs_background": "light"
     },
     "output_type": "display_data"
    }
   ],
   "source": [
    "sns.pairplot(data[['Age','Annual Income (k$)','Spending Score (1-100)']])"
   ]
  },
  {
   "cell_type": "code",
   "execution_count": 7,
   "metadata": {},
   "outputs": [
    {
     "data": {
      "text/html": [
       "<div>\n",
       "<style scoped>\n",
       "    .dataframe tbody tr th:only-of-type {\n",
       "        vertical-align: middle;\n",
       "    }\n",
       "\n",
       "    .dataframe tbody tr th {\n",
       "        vertical-align: top;\n",
       "    }\n",
       "\n",
       "    .dataframe thead th {\n",
       "        text-align: right;\n",
       "    }\n",
       "</style>\n",
       "<table border=\"1\" class=\"dataframe\">\n",
       "  <thead>\n",
       "    <tr style=\"text-align: right;\">\n",
       "      <th></th>\n",
       "      <th>CustomerID</th>\n",
       "      <th>Age</th>\n",
       "      <th>Annual Income (k$)</th>\n",
       "      <th>Spending Score (1-100)</th>\n",
       "    </tr>\n",
       "  </thead>\n",
       "  <tbody>\n",
       "    <tr>\n",
       "      <th>count</th>\n",
       "      <td>200.000000</td>\n",
       "      <td>200.000000</td>\n",
       "      <td>200.000000</td>\n",
       "      <td>200.000000</td>\n",
       "    </tr>\n",
       "    <tr>\n",
       "      <th>mean</th>\n",
       "      <td>100.500000</td>\n",
       "      <td>38.850000</td>\n",
       "      <td>60.560000</td>\n",
       "      <td>50.200000</td>\n",
       "    </tr>\n",
       "    <tr>\n",
       "      <th>std</th>\n",
       "      <td>57.879185</td>\n",
       "      <td>13.969007</td>\n",
       "      <td>26.264721</td>\n",
       "      <td>25.823522</td>\n",
       "    </tr>\n",
       "    <tr>\n",
       "      <th>min</th>\n",
       "      <td>1.000000</td>\n",
       "      <td>18.000000</td>\n",
       "      <td>15.000000</td>\n",
       "      <td>1.000000</td>\n",
       "    </tr>\n",
       "    <tr>\n",
       "      <th>25%</th>\n",
       "      <td>50.750000</td>\n",
       "      <td>28.750000</td>\n",
       "      <td>41.500000</td>\n",
       "      <td>34.750000</td>\n",
       "    </tr>\n",
       "    <tr>\n",
       "      <th>50%</th>\n",
       "      <td>100.500000</td>\n",
       "      <td>36.000000</td>\n",
       "      <td>61.500000</td>\n",
       "      <td>50.000000</td>\n",
       "    </tr>\n",
       "    <tr>\n",
       "      <th>75%</th>\n",
       "      <td>150.250000</td>\n",
       "      <td>49.000000</td>\n",
       "      <td>78.000000</td>\n",
       "      <td>73.000000</td>\n",
       "    </tr>\n",
       "    <tr>\n",
       "      <th>max</th>\n",
       "      <td>200.000000</td>\n",
       "      <td>70.000000</td>\n",
       "      <td>137.000000</td>\n",
       "      <td>99.000000</td>\n",
       "    </tr>\n",
       "  </tbody>\n",
       "</table>\n",
       "</div>"
      ],
      "text/plain": [
       "       CustomerID         Age  Annual Income (k$)  Spending Score (1-100)\n",
       "count  200.000000  200.000000          200.000000              200.000000\n",
       "mean   100.500000   38.850000           60.560000               50.200000\n",
       "std     57.879185   13.969007           26.264721               25.823522\n",
       "min      1.000000   18.000000           15.000000                1.000000\n",
       "25%     50.750000   28.750000           41.500000               34.750000\n",
       "50%    100.500000   36.000000           61.500000               50.000000\n",
       "75%    150.250000   49.000000           78.000000               73.000000\n",
       "max    200.000000   70.000000          137.000000               99.000000"
      ]
     },
     "execution_count": 7,
     "metadata": {},
     "output_type": "execute_result"
    }
   ],
   "source": [
    "#4\n",
    "data.describe()"
   ]
  },
  {
   "cell_type": "code",
   "execution_count": 7,
   "metadata": {},
   "outputs": [
    {
     "data": {
      "text/plain": [
       "CustomerID                0\n",
       "Gender                    0\n",
       "Age                       0\n",
       "Annual Income (k$)        0\n",
       "Spending Score (1-100)    0\n",
       "dtype: int64"
      ]
     },
     "execution_count": 7,
     "metadata": {},
     "output_type": "execute_result"
    }
   ],
   "source": [
    "#5\n",
    "data.isnull().sum()"
   ]
  },
  {
   "cell_type": "code",
   "execution_count": 10,
   "metadata": {},
   "outputs": [
    {
     "data": {
      "text/plain": [
       "CustomerID                0.000000\n",
       "Age                       0.485569\n",
       "Annual Income (k$)        0.321843\n",
       "Spending Score (1-100)   -0.047220\n",
       "dtype: float64"
      ]
     },
     "execution_count": 10,
     "metadata": {},
     "output_type": "execute_result"
    }
   ],
   "source": [
    "data.skew()"
   ]
  },
  {
   "cell_type": "code",
   "execution_count": 22,
   "metadata": {},
   "outputs": [
    {
     "data": {
      "text/plain": [
       "<seaborn.axisgrid.FacetGrid at 0x22eafe44b80>"
      ]
     },
     "execution_count": 22,
     "metadata": {},
     "output_type": "execute_result"
    },
    {
     "data": {
      "image/png": "[encoded data removed]",
      "text/plain": [
       "<Figure size 360x360 with 1 Axes>"
      ]
     },
     "metadata": {
      "needs_background": "light"
     },
     "output_type": "display_data"
    }
   ],
   "source": [
    "sns.displot(data['Age'],kind='kde')"
   ]
  },
  {
   "cell_type": "code",
   "execution_count": 23,
   "metadata": {},
   "outputs": [
    {
     "data": {
      "text/plain": [
       "<seaborn.axisgrid.FacetGrid at 0x22eafe44df0>"
      ]
     },
     "execution_count": 23,
     "metadata": {},
     "output_type": "execute_result"
    },
    {
     "data": {
      "image/png": "[encoded data removed]",
      "text/plain": [
       "<Figure size 360x360 with 1 Axes>"
      ]
     },
     "metadata": {
      "needs_background": "light"
     },
     "output_type": "display_data"
    }
   ],
   "source": [
    "sns.displot(data['Annual Income (k$)'],kind='kde')"
   ]
  },
  {
   "cell_type": "code",
   "execution_count": 25,
   "metadata": {},
   "outputs": [
    {
     "data": {
      "text/plain": [
       "<seaborn.axisgrid.FacetGrid at 0x22eaff16550>"
      ]
     },
     "execution_count": 25,
     "metadata": {},
     "output_type": "execute_result"
    },
    {
     "data": {
      "image/png": "[encoded data removed]",
      "text/plain": [
       "<Figure size 360x360 with 1 Axes>"
      ]
     },
     "metadata": {
      "needs_background": "light"
     },
     "output_type": "display_data"
    }
   ],
   "source": [
    "sns.displot(data['Spending Score (1-100)'],kind='kde')"
   ]
  },
  {
   "cell_type": "code",
   "execution_count": 28,
   "metadata": {},
   "outputs": [
    {
     "name": "stderr",
     "output_type": "stream",
     "text": [
      "C:\\Users\\pc\\anaconda3\\lib\\site-packages\\seaborn\\_decorators.py:36: FutureWarning: Pass the following variable as a keyword arg: x. From version 0.12, the only valid positional argument will be `data`, and passing other arguments without an explicit keyword will result in an error or misinterpretation.\n",
      "  warnings.warn(\n"
     ]
    },
    {
     "data": {
      "text/plain": [
       "<AxesSubplot:xlabel='Annual Income (k$)'>"
      ]
     },
     "execution_count": 28,
     "metadata": {},
     "output_type": "execute_result"
    },
    {
     "data": {
      "image/png": "[encoded data removed]",
      "text/plain": [
       "<Figure size 432x288 with 1 Axes>"
      ]
     },
     "metadata": {
      "needs_background": "light"
     },
     "output_type": "display_data"
    }
   ],
   "source": [
    "sns.boxplot(data['Annual Income (k$)'])"
   ]
  },
  {
   "cell_type": "code",
   "execution_count": 31,
   "metadata": {},
   "outputs": [
    {
     "name": "stderr",
     "output_type": "stream",
     "text": [
      "C:\\Users\\pc\\anaconda3\\lib\\site-packages\\seaborn\\_decorators.py:36: FutureWarning: Pass the following variable as a keyword arg: x. From version 0.12, the only valid positional argument will be `data`, and passing other arguments without an explicit keyword will result in an error or misinterpretation.\n",
      "  warnings.warn(\n"
     ]
    },
    {
     "data": {
      "text/plain": [
       "<AxesSubplot:xlabel='Spending Score (1-100)'>"
      ]
     },
     "execution_count": 31,
     "metadata": {},
     "output_type": "execute_result"
    },
    {
     "data": {
      "image/png": "[encoded data removed]",
      "text/plain": [
       "<Figure size 432x288 with 1 Axes>"
      ]
     },
     "metadata": {
      "needs_background": "light"
     },
     "output_type": "display_data"
    }
   ],
   "source": [
    "sns.boxplot(data['Spending Score (1-100)'])"
   ]
  },
  {
   "cell_type": "code",
   "execution_count": 10,
   "metadata": {},
   "outputs": [],
   "source": [
    "mean=data['Annual Income (k$)'].mean()\n"
   ]
  },
  {
   "cell_type": "code",
   "execution_count": 16,
   "metadata": {},
   "outputs": [
    {
     "data": {
      "text/plain": [
       "0       15\n",
       "1       15\n",
       "2       16\n",
       "3       16\n",
       "4       17\n",
       "      ... \n",
       "195    120\n",
       "196    126\n",
       "197    126\n",
       "198    137\n",
       "199    137\n",
       "Name: Annual Income (k$), Length: 200, dtype: int64"
      ]
     },
     "execution_count": 16,
     "metadata": {},
     "output_type": "execute_result"
    }
   ],
   "source": [
    "#replacing outlers\n",
    "data['Annual Income (k$)'].replace(mean)"
   ]
  },
  {
   "cell_type": "code",
   "execution_count": 15,
   "metadata": {},
   "outputs": [
    {
     "data": {
      "text/plain": [
       "0"
      ]
     },
     "execution_count": 15,
     "metadata": {},
     "output_type": "execute_result"
    }
   ],
   "source": [
    "data['Annual Income (k$)'].isnull().sum()"
   ]
  },
  {
   "cell_type": "code",
   "execution_count": 4,
   "metadata": {},
   "outputs": [],
   "source": [
    "#7\n",
    "data_main=pd.get_dummies(data,columns=['Gender'])"
   ]
  },
  {
   "cell_type": "code",
   "execution_count": 5,
   "metadata": {},
   "outputs": [
    {
     "data": {
      "text/html": [
       "<div>\n",
       "<style scoped>\n",
       "    .dataframe tbody tr th:only-of-type {\n",
       "        vertical-align: middle;\n",
       "    }\n",
       "\n",
       "    .dataframe tbody tr th {\n",
       "        vertical-align: top;\n",
       "    }\n",
       "\n",
       "    .dataframe thead th {\n",
       "        text-align: right;\n",
       "    }\n",
       "</style>\n",
       "<table border=\"1\" class=\"dataframe\">\n",
       "  <thead>\n",
       "    <tr style=\"text-align: right;\">\n",
       "      <th></th>\n",
       "      <th>CustomerID</th>\n",
       "      <th>Age</th>\n",
       "      <th>Annual Income (k$)</th>\n",
       "      <th>Spending Score (1-100)</th>\n",
       "      <th>Gender_Female</th>\n",
       "      <th>Gender_Male</th>\n",
       "    </tr>\n",
       "  </thead>\n",
       "  <tbody>\n",
       "    <tr>\n",
       "      <th>0</th>\n",
       "      <td>1</td>\n",
       "      <td>19</td>\n",
       "      <td>15</td>\n",
       "      <td>39</td>\n",
       "      <td>0</td>\n",
       "      <td>1</td>\n",
       "    </tr>\n",
       "    <tr>\n",
       "      <th>1</th>\n",
       "      <td>2</td>\n",
       "      <td>21</td>\n",
       "      <td>15</td>\n",
       "      <td>81</td>\n",
       "      <td>0</td>\n",
       "      <td>1</td>\n",
       "    </tr>\n",
       "    <tr>\n",
       "      <th>2</th>\n",
       "      <td>3</td>\n",
       "      <td>20</td>\n",
       "      <td>16</td>\n",
       "      <td>6</td>\n",
       "      <td>1</td>\n",
       "      <td>0</td>\n",
       "    </tr>\n",
       "    <tr>\n",
       "      <th>3</th>\n",
       "      <td>4</td>\n",
       "      <td>23</td>\n",
       "      <td>16</td>\n",
       "      <td>77</td>\n",
       "      <td>1</td>\n",
       "      <td>0</td>\n",
       "    </tr>\n",
       "    <tr>\n",
       "      <th>4</th>\n",
       "      <td>5</td>\n",
       "      <td>31</td>\n",
       "      <td>17</td>\n",
       "      <td>40</td>\n",
       "      <td>1</td>\n",
       "      <td>0</td>\n",
       "    </tr>\n",
       "    <tr>\n",
       "      <th>...</th>\n",
       "      <td>...</td>\n",
       "      <td>...</td>\n",
       "      <td>...</td>\n",
       "      <td>...</td>\n",
       "      <td>...</td>\n",
       "      <td>...</td>\n",
       "    </tr>\n",
       "    <tr>\n",
       "      <th>195</th>\n",
       "      <td>196</td>\n",
       "      <td>35</td>\n",
       "      <td>120</td>\n",
       "      <td>79</td>\n",
       "      <td>1</td>\n",
       "      <td>0</td>\n",
       "    </tr>\n",
       "    <tr>\n",
       "      <th>196</th>\n",
       "      <td>197</td>\n",
       "      <td>45</td>\n",
       "      <td>126</td>\n",
       "      <td>28</td>\n",
       "      <td>1</td>\n",
       "      <td>0</td>\n",
       "    </tr>\n",
       "    <tr>\n",
       "      <th>197</th>\n",
       "      <td>198</td>\n",
       "      <td>32</td>\n",
       "      <td>126</td>\n",
       "      <td>74</td>\n",
       "      <td>0</td>\n",
       "      <td>1</td>\n",
       "    </tr>\n",
       "    <tr>\n",
       "      <th>198</th>\n",
       "      <td>199</td>\n",
       "      <td>32</td>\n",
       "      <td>137</td>\n",
       "      <td>18</td>\n",
       "      <td>0</td>\n",
       "      <td>1</td>\n",
       "    </tr>\n",
       "    <tr>\n",
       "      <th>199</th>\n",
       "      <td>200</td>\n",
       "      <td>30</td>\n",
       "      <td>137</td>\n",
       "      <td>83</td>\n",
       "      <td>0</td>\n",
       "      <td>1</td>\n",
       "    </tr>\n",
       "  </tbody>\n",
       "</table>\n",
       "<p>200 rows × 6 columns</p>\n",
       "</div>"
      ],
      "text/plain": [
       "     CustomerID  Age  Annual Income (k$)  Spending Score (1-100)  \\\n",
       "0             1   19                  15                      39   \n",
       "1             2   21                  15                      81   \n",
       "2             3   20                  16                       6   \n",
       "3             4   23                  16                      77   \n",
       "4             5   31                  17                      40   \n",
       "..          ...  ...                 ...                     ...   \n",
       "195         196   35                 120                      79   \n",
       "196         197   45                 126                      28   \n",
       "197         198   32                 126                      74   \n",
       "198         199   32                 137                      18   \n",
       "199         200   30                 137                      83   \n",
       "\n",
       "     Gender_Female  Gender_Male  \n",
       "0                0            1  \n",
       "1                0            1  \n",
       "2                1            0  \n",
       "3                1            0  \n",
       "4                1            0  \n",
       "..             ...          ...  \n",
       "195              1            0  \n",
       "196              1            0  \n",
       "197              0            1  \n",
       "198              0            1  \n",
       "199              0            1  \n",
       "\n",
       "[200 rows x 6 columns]"
      ]
     },
     "execution_count": 5,
     "metadata": {},
     "output_type": "execute_result"
    }
   ],
   "source": [
    "data_main"
   ]
  },
  {
   "cell_type": "code",
   "execution_count": 56,
   "metadata": {},
   "outputs": [
    {
     "data": {
      "text/plain": [
       "pandas.core.series.Series"
      ]
     },
     "execution_count": 56,
     "metadata": {},
     "output_type": "execute_result"
    }
   ],
   "source": [
    "type(data_main['Gender_Female'])"
   ]
  },
  {
   "cell_type": "code",
   "execution_count": 8,
   "metadata": {},
   "outputs": [],
   "source": [
    "x=data_main[['Age','Annual Income (k$)','Spending Score (1-100)']]"
   ]
  },
  {
   "cell_type": "code",
   "execution_count": 46,
   "metadata": {},
   "outputs": [
    {
     "data": {
      "text/html": [
       "<div>\n",
       "<style scoped>\n",
       "    .dataframe tbody tr th:only-of-type {\n",
       "        vertical-align: middle;\n",
       "    }\n",
       "\n",
       "    .dataframe tbody tr th {\n",
       "        vertical-align: top;\n",
       "    }\n",
       "\n",
       "    .dataframe thead th {\n",
       "        text-align: right;\n",
       "    }\n",
       "</style>\n",
       "<table border=\"1\" class=\"dataframe\">\n",
       "  <thead>\n",
       "    <tr style=\"text-align: right;\">\n",
       "      <th></th>\n",
       "      <th>Age</th>\n",
       "      <th>Annual Income (k$)</th>\n",
       "    </tr>\n",
       "  </thead>\n",
       "  <tbody>\n",
       "    <tr>\n",
       "      <th>0</th>\n",
       "      <td>19</td>\n",
       "      <td>15</td>\n",
       "    </tr>\n",
       "    <tr>\n",
       "      <th>1</th>\n",
       "      <td>21</td>\n",
       "      <td>15</td>\n",
       "    </tr>\n",
       "    <tr>\n",
       "      <th>2</th>\n",
       "      <td>20</td>\n",
       "      <td>16</td>\n",
       "    </tr>\n",
       "    <tr>\n",
       "      <th>3</th>\n",
       "      <td>23</td>\n",
       "      <td>16</td>\n",
       "    </tr>\n",
       "    <tr>\n",
       "      <th>4</th>\n",
       "      <td>31</td>\n",
       "      <td>17</td>\n",
       "    </tr>\n",
       "    <tr>\n",
       "      <th>...</th>\n",
       "      <td>...</td>\n",
       "      <td>...</td>\n",
       "    </tr>\n",
       "    <tr>\n",
       "      <th>195</th>\n",
       "      <td>35</td>\n",
       "      <td>120</td>\n",
       "    </tr>\n",
       "    <tr>\n",
       "      <th>196</th>\n",
       "      <td>45</td>\n",
       "      <td>126</td>\n",
       "    </tr>\n",
       "    <tr>\n",
       "      <th>197</th>\n",
       "      <td>32</td>\n",
       "      <td>126</td>\n",
       "    </tr>\n",
       "    <tr>\n",
       "      <th>198</th>\n",
       "      <td>32</td>\n",
       "      <td>137</td>\n",
       "    </tr>\n",
       "    <tr>\n",
       "      <th>199</th>\n",
       "      <td>30</td>\n",
       "      <td>137</td>\n",
       "    </tr>\n",
       "  </tbody>\n",
       "</table>\n",
       "<p>200 rows × 2 columns</p>\n",
       "</div>"
      ],
      "text/plain": [
       "     Age  Annual Income (k$)\n",
       "0     19                  15\n",
       "1     21                  15\n",
       "2     20                  16\n",
       "3     23                  16\n",
       "4     31                  17\n",
       "..   ...                 ...\n",
       "195   35                 120\n",
       "196   45                 126\n",
       "197   32                 126\n",
       "198   32                 137\n",
       "199   30                 137\n",
       "\n",
       "[200 rows x 2 columns]"
      ]
     },
     "execution_count": 46,
     "metadata": {},
     "output_type": "execute_result"
    }
   ],
   "source": [
    "x"
   ]
  },
  {
   "cell_type": "code",
   "execution_count": 9,
   "metadata": {},
   "outputs": [],
   "source": [
    "#8 scaling\n",
    "min_max=MinMaxScaler(feature_range=(0,1))"
   ]
  },
  {
   "cell_type": "code",
   "execution_count": 10,
   "metadata": {
    "scrolled": false
   },
   "outputs": [],
   "source": [
    "norm=min_max.fit_transform(x)"
   ]
  },
  {
   "cell_type": "code",
   "execution_count": 11,
   "metadata": {},
   "outputs": [
    {
     "data": {
      "text/plain": [
       "array([[0.01923077, 0.        , 0.3877551 ],\n",
       "       [0.05769231, 0.        , 0.81632653],\n",
       "       [0.03846154, 0.00819672, 0.05102041],\n",
       "       [0.09615385, 0.00819672, 0.7755102 ],\n",
       "       [0.25      , 0.01639344, 0.39795918],\n",
       "       [0.07692308, 0.01639344, 0.76530612],\n",
       "       [0.32692308, 0.02459016, 0.05102041],\n",
       "       [0.09615385, 0.02459016, 0.94897959],\n",
       "       [0.88461538, 0.03278689, 0.02040816],\n",
       "       [0.23076923, 0.03278689, 0.7244898 ],\n",
       "       [0.94230769, 0.03278689, 0.13265306],\n",
       "       [0.32692308, 0.03278689, 1.        ],\n",
       "       [0.76923077, 0.04098361, 0.14285714],\n",
       "       [0.11538462, 0.04098361, 0.7755102 ],\n",
       "       [0.36538462, 0.04098361, 0.12244898],\n",
       "       [0.07692308, 0.04098361, 0.79591837],\n",
       "       [0.32692308, 0.04918033, 0.34693878],\n",
       "       [0.03846154, 0.04918033, 0.66326531],\n",
       "       [0.65384615, 0.06557377, 0.28571429],\n",
       "       [0.32692308, 0.06557377, 0.98979592],\n",
       "       [0.32692308, 0.07377049, 0.34693878],\n",
       "       [0.13461538, 0.07377049, 0.73469388],\n",
       "       [0.53846154, 0.08196721, 0.04081633],\n",
       "       [0.25      , 0.08196721, 0.73469388],\n",
       "       [0.69230769, 0.10655738, 0.13265306],\n",
       "       [0.21153846, 0.10655738, 0.82653061],\n",
       "       [0.51923077, 0.10655738, 0.31632653],\n",
       "       [0.32692308, 0.10655738, 0.6122449 ],\n",
       "       [0.42307692, 0.1147541 , 0.30612245],\n",
       "       [0.09615385, 0.1147541 , 0.87755102],\n",
       "       [0.80769231, 0.12295082, 0.03061224],\n",
       "       [0.05769231, 0.12295082, 0.73469388],\n",
       "       [0.67307692, 0.14754098, 0.03061224],\n",
       "       [0.        , 0.14754098, 0.92857143],\n",
       "       [0.59615385, 0.14754098, 0.13265306],\n",
       "       [0.05769231, 0.14754098, 0.81632653],\n",
       "       [0.46153846, 0.1557377 , 0.16326531],\n",
       "       [0.23076923, 0.1557377 , 0.73469388],\n",
       "       [0.34615385, 0.18032787, 0.25510204],\n",
       "       [0.03846154, 0.18032787, 0.75510204],\n",
       "       [0.90384615, 0.18852459, 0.34693878],\n",
       "       [0.11538462, 0.18852459, 0.92857143],\n",
       "       [0.57692308, 0.19672131, 0.35714286],\n",
       "       [0.25      , 0.19672131, 0.6122449 ],\n",
       "       [0.59615385, 0.19672131, 0.2755102 ],\n",
       "       [0.11538462, 0.19672131, 0.65306122],\n",
       "       [0.61538462, 0.20491803, 0.55102041],\n",
       "       [0.17307692, 0.20491803, 0.46938776],\n",
       "       [0.21153846, 0.20491803, 0.41836735],\n",
       "       [0.25      , 0.20491803, 0.41836735],\n",
       "       [0.59615385, 0.22131148, 0.52040816],\n",
       "       [0.28846154, 0.22131148, 0.60204082],\n",
       "       [0.25      , 0.2295082 , 0.54081633],\n",
       "       [0.78846154, 0.2295082 , 0.60204082],\n",
       "       [0.61538462, 0.2295082 , 0.44897959],\n",
       "       [0.55769231, 0.2295082 , 0.40816327],\n",
       "       [0.63461538, 0.23770492, 0.5       ],\n",
       "       [0.98076923, 0.23770492, 0.45918367],\n",
       "       [0.17307692, 0.25409836, 0.51020408],\n",
       "       [0.67307692, 0.25409836, 0.45918367],\n",
       "       [1.        , 0.25409836, 0.56122449],\n",
       "       [0.01923077, 0.25409836, 0.55102041],\n",
       "       [0.94230769, 0.26229508, 0.52040816],\n",
       "       [0.69230769, 0.26229508, 0.59183673],\n",
       "       [0.86538462, 0.2704918 , 0.51020408],\n",
       "       [0.        , 0.2704918 , 0.59183673],\n",
       "       [0.48076923, 0.2704918 , 0.5       ],\n",
       "       [0.96153846, 0.2704918 , 0.47959184],\n",
       "       [0.01923077, 0.2704918 , 0.59183673],\n",
       "       [0.26923077, 0.2704918 , 0.46938776],\n",
       "       [1.        , 0.27868852, 0.55102041],\n",
       "       [0.55769231, 0.27868852, 0.41836735],\n",
       "       [0.80769231, 0.28688525, 0.48979592],\n",
       "       [0.80769231, 0.28688525, 0.56122449],\n",
       "       [0.78846154, 0.31967213, 0.46938776],\n",
       "       [0.15384615, 0.31967213, 0.54081633],\n",
       "       [0.51923077, 0.31967213, 0.53061224],\n",
       "       [0.42307692, 0.31967213, 0.47959184],\n",
       "       [0.09615385, 0.31967213, 0.52040816],\n",
       "       [0.59615385, 0.31967213, 0.41836735],\n",
       "       [0.75      , 0.31967213, 0.51020408],\n",
       "       [0.38461538, 0.31967213, 0.55102041],\n",
       "       [0.94230769, 0.31967213, 0.40816327],\n",
       "       [0.53846154, 0.31967213, 0.43877551],\n",
       "       [0.05769231, 0.31967213, 0.57142857],\n",
       "       [0.57692308, 0.31967213, 0.45918367],\n",
       "       [0.71153846, 0.3442623 , 0.58163265],\n",
       "       [0.07692308, 0.3442623 , 0.55102041],\n",
       "       [0.30769231, 0.35245902, 0.60204082],\n",
       "       [0.61538462, 0.35245902, 0.45918367],\n",
       "       [0.96153846, 0.36065574, 0.55102041],\n",
       "       [0.        , 0.36065574, 0.40816327],\n",
       "       [0.57692308, 0.36885246, 0.48979592],\n",
       "       [0.42307692, 0.36885246, 0.39795918],\n",
       "       [0.26923077, 0.36885246, 0.41836735],\n",
       "       [0.11538462, 0.36885246, 0.52040816],\n",
       "       [0.55769231, 0.36885246, 0.46938776],\n",
       "       [0.17307692, 0.36885246, 0.5       ],\n",
       "       [0.57692308, 0.37704918, 0.41836735],\n",
       "       [0.03846154, 0.37704918, 0.48979592],\n",
       "       [0.09615385, 0.3852459 , 0.40816327],\n",
       "       [0.59615385, 0.3852459 , 0.47959184],\n",
       "       [0.94230769, 0.3852459 , 0.59183673],\n",
       "       [0.15384615, 0.3852459 , 0.55102041],\n",
       "       [0.59615385, 0.3852459 , 0.56122449],\n",
       "       [0.05769231, 0.3852459 , 0.41836735],\n",
       "       [0.92307692, 0.39344262, 0.5       ],\n",
       "       [0.69230769, 0.39344262, 0.45918367],\n",
       "       [0.96153846, 0.39344262, 0.42857143],\n",
       "       [0.92307692, 0.39344262, 0.47959184],\n",
       "       [0.90384615, 0.39344262, 0.52040816],\n",
       "       [0.01923077, 0.39344262, 0.54081633],\n",
       "       [0.38461538, 0.40163934, 0.41836735],\n",
       "       [0.01923077, 0.40163934, 0.45918367],\n",
       "       [0.        , 0.40983607, 0.47959184],\n",
       "       [0.01923077, 0.40983607, 0.5       ],\n",
       "       [0.86538462, 0.40983607, 0.42857143],\n",
       "       [0.59615385, 0.40983607, 0.59183673],\n",
       "       [0.63461538, 0.42622951, 0.42857143],\n",
       "       [0.61538462, 0.42622951, 0.57142857],\n",
       "       [0.17307692, 0.42622951, 0.56122449],\n",
       "       [0.38461538, 0.42622951, 0.39795918],\n",
       "       [0.42307692, 0.44262295, 0.58163265],\n",
       "       [0.40384615, 0.44262295, 0.91836735],\n",
       "       [0.09615385, 0.45081967, 0.28571429],\n",
       "       [0.25      , 0.45081967, 0.7755102 ],\n",
       "       [0.48076923, 0.45901639, 0.34693878],\n",
       "       [0.42307692, 0.45901639, 0.95918367],\n",
       "       [0.78846154, 0.45901639, 0.10204082],\n",
       "       [0.38461538, 0.45901639, 0.75510204],\n",
       "       [0.55769231, 0.45901639, 0.08163265],\n",
       "       [0.40384615, 0.45901639, 0.75510204],\n",
       "       [0.13461538, 0.46721311, 0.33673469],\n",
       "       [0.25      , 0.46721311, 0.71428571],\n",
       "       [0.03846154, 0.47540984, 0.04081633],\n",
       "       [0.21153846, 0.47540984, 0.8877551 ],\n",
       "       [0.5       , 0.47540984, 0.06122449],\n",
       "       [0.26923077, 0.47540984, 0.73469388],\n",
       "       [0.01923077, 0.48360656, 0.09183673],\n",
       "       [0.32692308, 0.48360656, 0.7244898 ],\n",
       "       [0.75      , 0.49180328, 0.04081633],\n",
       "       [0.26923077, 0.49180328, 0.93877551],\n",
       "       [0.19230769, 0.5       , 0.39795918],\n",
       "       [0.26923077, 0.5       , 0.87755102],\n",
       "       [0.13461538, 0.50819672, 0.1122449 ],\n",
       "       [0.19230769, 0.50819672, 0.97959184],\n",
       "       [0.57692308, 0.50819672, 0.35714286],\n",
       "       [0.26923077, 0.50819672, 0.74489796],\n",
       "       [0.30769231, 0.51639344, 0.21428571],\n",
       "       [0.30769231, 0.51639344, 0.90816327],\n",
       "       [0.48076923, 0.51639344, 0.16326531],\n",
       "       [0.40384615, 0.51639344, 0.8877551 ],\n",
       "       [0.5       , 0.51639344, 0.19387755],\n",
       "       [0.38461538, 0.51639344, 0.76530612],\n",
       "       [0.55769231, 0.51639344, 0.15306122],\n",
       "       [0.17307692, 0.51639344, 0.89795918],\n",
       "       [0.36538462, 0.51639344, 0.        ],\n",
       "       [0.23076923, 0.51639344, 0.78571429],\n",
       "       [0.30769231, 0.51639344, 0.        ],\n",
       "       [0.23076923, 0.51639344, 0.73469388],\n",
       "       [0.73076923, 0.52459016, 0.34693878],\n",
       "       [0.21153846, 0.52459016, 0.83673469],\n",
       "       [0.01923077, 0.54098361, 0.04081633],\n",
       "       [0.25      , 0.54098361, 0.93877551],\n",
       "       [0.61538462, 0.57377049, 0.25510204],\n",
       "       [0.34615385, 0.57377049, 0.75510204],\n",
       "       [0.46153846, 0.58196721, 0.19387755],\n",
       "       [0.28846154, 0.58196721, 0.95918367],\n",
       "       [0.34615385, 0.59016393, 0.26530612],\n",
       "       [0.26923077, 0.59016393, 0.63265306],\n",
       "       [0.42307692, 0.59016393, 0.12244898],\n",
       "       [0.19230769, 0.59016393, 0.75510204],\n",
       "       [0.34615385, 0.59016393, 0.09183673],\n",
       "       [0.34615385, 0.59016393, 0.92857143],\n",
       "       [0.65384615, 0.59836066, 0.12244898],\n",
       "       [0.23076923, 0.59836066, 0.86734694],\n",
       "       [0.76923077, 0.59836066, 0.14285714],\n",
       "       [0.17307692, 0.59836066, 0.69387755],\n",
       "       [0.78846154, 0.63934426, 0.13265306],\n",
       "       [0.32692308, 0.63934426, 0.90816327],\n",
       "       [0.36538462, 0.67213115, 0.31632653],\n",
       "       [0.26923077, 0.67213115, 0.86734694],\n",
       "       [0.53846154, 0.68032787, 0.14285714],\n",
       "       [0.21153846, 0.68032787, 0.8877551 ],\n",
       "       [0.44230769, 0.68852459, 0.3877551 ],\n",
       "       [0.23076923, 0.68852459, 0.97959184],\n",
       "       [0.69230769, 0.70491803, 0.23469388],\n",
       "       [0.19230769, 0.70491803, 0.68367347],\n",
       "       [0.44230769, 0.72131148, 0.16326531],\n",
       "       [0.34615385, 0.72131148, 0.85714286],\n",
       "       [0.30769231, 0.72131148, 0.2244898 ],\n",
       "       [0.26923077, 0.72131148, 0.69387755],\n",
       "       [0.28846154, 0.80327869, 0.07142857],\n",
       "       [0.38461538, 0.80327869, 0.91836735],\n",
       "       [0.55769231, 0.86065574, 0.15306122],\n",
       "       [0.32692308, 0.86065574, 0.79591837],\n",
       "       [0.51923077, 0.90983607, 0.2755102 ],\n",
       "       [0.26923077, 0.90983607, 0.74489796],\n",
       "       [0.26923077, 1.        , 0.17346939],\n",
       "       [0.23076923, 1.        , 0.83673469]])"
      ]
     },
     "execution_count": 11,
     "metadata": {},
     "output_type": "execute_result"
    }
   ],
   "source": [
    "norm"
   ]
  },
  {
   "cell_type": "code",
   "execution_count": 12,
   "metadata": {},
   "outputs": [],
   "source": [
    "y=data_main['Spending Score (1-100)']"
   ]
  },
  {
   "cell_type": "code",
   "execution_count": 41,
   "metadata": {},
   "outputs": [],
   "source": [
    "x=data_main.drop(columns=['Spending Score (1-100)','CustomerID','Gender_Female','Gender_Male'],axis=1)"
   ]
  },
  {
   "cell_type": "code",
   "execution_count": 36,
   "metadata": {},
   "outputs": [
    {
     "data": {
      "text/html": [
       "<div>\n",
       "<style scoped>\n",
       "    .dataframe tbody tr th:only-of-type {\n",
       "        vertical-align: middle;\n",
       "    }\n",
       "\n",
       "    .dataframe tbody tr th {\n",
       "        vertical-align: top;\n",
       "    }\n",
       "\n",
       "    .dataframe thead th {\n",
       "        text-align: right;\n",
       "    }\n",
       "</style>\n",
       "<table border=\"1\" class=\"dataframe\">\n",
       "  <thead>\n",
       "    <tr style=\"text-align: right;\">\n",
       "      <th></th>\n",
       "      <th>Age</th>\n",
       "      <th>Annual Income (k$)</th>\n",
       "    </tr>\n",
       "  </thead>\n",
       "  <tbody>\n",
       "    <tr>\n",
       "      <th>0</th>\n",
       "      <td>19</td>\n",
       "      <td>15</td>\n",
       "    </tr>\n",
       "    <tr>\n",
       "      <th>1</th>\n",
       "      <td>21</td>\n",
       "      <td>15</td>\n",
       "    </tr>\n",
       "    <tr>\n",
       "      <th>2</th>\n",
       "      <td>20</td>\n",
       "      <td>16</td>\n",
       "    </tr>\n",
       "    <tr>\n",
       "      <th>3</th>\n",
       "      <td>23</td>\n",
       "      <td>16</td>\n",
       "    </tr>\n",
       "    <tr>\n",
       "      <th>4</th>\n",
       "      <td>31</td>\n",
       "      <td>17</td>\n",
       "    </tr>\n",
       "    <tr>\n",
       "      <th>...</th>\n",
       "      <td>...</td>\n",
       "      <td>...</td>\n",
       "    </tr>\n",
       "    <tr>\n",
       "      <th>195</th>\n",
       "      <td>35</td>\n",
       "      <td>120</td>\n",
       "    </tr>\n",
       "    <tr>\n",
       "      <th>196</th>\n",
       "      <td>45</td>\n",
       "      <td>126</td>\n",
       "    </tr>\n",
       "    <tr>\n",
       "      <th>197</th>\n",
       "      <td>32</td>\n",
       "      <td>126</td>\n",
       "    </tr>\n",
       "    <tr>\n",
       "      <th>198</th>\n",
       "      <td>32</td>\n",
       "      <td>137</td>\n",
       "    </tr>\n",
       "    <tr>\n",
       "      <th>199</th>\n",
       "      <td>30</td>\n",
       "      <td>137</td>\n",
       "    </tr>\n",
       "  </tbody>\n",
       "</table>\n",
       "<p>200 rows × 2 columns</p>\n",
       "</div>"
      ],
      "text/plain": [
       "     Age  Annual Income (k$)\n",
       "0     19                  15\n",
       "1     21                  15\n",
       "2     20                  16\n",
       "3     23                  16\n",
       "4     31                  17\n",
       "..   ...                 ...\n",
       "195   35                 120\n",
       "196   45                 126\n",
       "197   32                 126\n",
       "198   32                 137\n",
       "199   30                 137\n",
       "\n",
       "[200 rows x 2 columns]"
      ]
     },
     "execution_count": 36,
     "metadata": {},
     "output_type": "execute_result"
    }
   ],
   "source": [
    "x"
   ]
  },
  {
   "cell_type": "code",
   "execution_count": 42,
   "metadata": {},
   "outputs": [],
   "source": [
    "x_train,x_test,y_train,y_test=train_test_split(x,y,test_size=0.2,random_state=0)"
   ]
  },
  {
   "cell_type": "code",
   "execution_count": 12,
   "metadata": {},
   "outputs": [],
   "source": []
  },
  {
   "cell_type": "code",
   "execution_count": null,
   "metadata": {},
   "outputs": [],
   "source": []
  },
  {
   "cell_type": "code",
   "execution_count": null,
   "metadata": {},
   "outputs": [],
   "source": []
  }
 ],
 "metadata": {
  "kernelspec": {
   "display_name": "Python 3",
   "language": "python",
   "name": "python3"
  },
  "language_info": {
   "codemirror_mode": {
    "name": "ipython",
    "version": 3
   },
   "file_extension": ".py",
   "mimetype": "text/x-python",
   "name": "python",
   "nbconvert_exporter": "python",
   "pygments_lexer": "ipython3",
   "version": "3.8.5"
  }
 },
 "nbformat": 4,
 "nbformat_minor": 4
}
